{
 "cells": [
  {
   "cell_type": "code",
   "execution_count": null,
   "metadata": {},
   "outputs": [],
   "source": [
    "import numpy as np\n",
    "import pandas  as pd\n",
    "import matplotlib.pyplot as plt"
   ]
  },
  {
   "cell_type": "markdown",
   "metadata": {},
   "source": [
    "# Pandas\n",
    "- Series (Excel-> Column)\n",
    "- DataFrame (Excel->Tabl)"
   ]
  },
  {
   "cell_type": "code",
   "execution_count": null,
   "metadata": {},
   "outputs": [],
   "source": [
    "s1 = pd.Series([1,2,3,4]) # index   values\n",
    "s2 = pd.Series((1,2,3,4))\n",
    "print(s1, s1, sep='\\n\\n')\n"
    "#print(s2, s2, sep='\\n\\n')\n"
   ]
  },
  {
   "cell_type": "code",
   "execution_count": null,
   "metadata": {},
   "outputs": [],
   "source": [
    "s1 = pd.Series([1,2,3,4] , index=['A','B','C',\"D\"])\n",
    "s1"
   ]
  },
  {
   "cell_type": "code",
   "execution_count": null,
   "metadata": {},
   "outputs": [],
   "source": [
    "s1 = pd.Series([1,2,3,4] , index=['A','B','C',\"D\"], name='CNIC')\n",
    "s1.index.name = \"ID\"\n",
    "s1"
   ]
  },
  {
   "cell_type": "code",
   "execution_count": null,
   "metadata": {},
   "outputs": [],
   "source": [
    "d1 = {\"A\":1,\n",
    "     \"B\":2,\n",
    "     \"C\":5,\n",
    "     \"D\":7}\n",
    "d1"
   ]
  },
  {
   "cell_type": "code",
   "execution_count": null,
   "metadata": {},
   "outputs": [],
   "source": [
    "s1 = pd.Series(d1)\n",
    "s1"
   ]
  },
  {
   "cell_type": "markdown",
   "metadata": {},
   "source": [
    "# DataFrame"
   ]
  },
  {
   "cell_type": "raw",
   "metadata": {},
   "source": [
    "#dataframe.info()\n",
    "#dataframe.describe()\n",
    "#dataframe.dtypes\n",
    "#dataframe.columns\n",
    "#dataframe.index\n",
    "#dataframe.values\n",
    "#dataframe.isnull()\n",
    "#dataframe.isnull().sum()\n",
    "#dataframe.notnull()\n",
    "#dataframe.notnull().sum()\n",
    "#dataframe.head(n=5)\n",
    "#dataframe.tail()\n",
    "#dataframe.apply() # pass user define function"
   ]
  },
  {
   "cell_type": "markdown",
   "metadata": {},
   "source": [
    "#### list of list"
   ]
  },
  {
   "cell_type": "code",
   "execution_count": null,
   "metadata": {},
   "outputs": [],
   "source": [
    "data = [[1, 'Ali','A.I',1500],\n",
    "       [2, 'Asif','A.I',1500],\n",
    "       [3, 'Hamza','A.I',3000],\n",
    "       [4, 'Kashif','AIOT',1500],\n",
    "       [5, 'Ali','A.I',3000]]\n",
    "data"
   ]
  },
  {
   "cell_type": "code",
   "execution_count": null,
   "metadata": {},
   "outputs": [],
   "source": [
    "df1 = pd.DataFrame(data)\n",
    "df1"
   ]
  },
  {
   "cell_type": "code",
   "execution_count": null,
   "metadata": {},
   "outputs": [],
   "source": [
    "df1 = pd.DataFrame(data, columns=[\"A\",\"B\",\"C\",\"D\"]) # parameter\n",
    "df1"
   ]
  },
  {
   "cell_type": "code",
   "execution_count": null,
   "metadata": {},
   "outputs": [],
   "source": [
    "df1 = pd.DataFrame(data, columns=[\"A\",\"B\",\"C\",\"D\"], index=['a','b','c','d','e']) # parameter\n",
    "df1"
   ]
  },
  {
   "cell_type": "code",
   "execution_count": null,
   "metadata": {},
   "outputs": [],
   "source": [
    "df1 = pd.DataFrame(data)\n",
    "df1.columns = [\"A\",\"B\",\"C\",\"D\"] # Attribute\n",
    "df1"
   ]
  },
  {
   "cell_type": "markdown",
   "metadata": {},
   "source": [
    "#### list of tuple"
   ]
  },
  {
   "cell_type": "code",
   "execution_count": null,
   "metadata": {},
   "outputs": [],
   "source": [
    "data = [(1, 'Ali','A.I',1500),\n",
    "       (2, 'Asif','A.I',1500),\n",
    "       (3, 'Hamza','A.I',3000),\n",
    "       (4, 'Kashif','AIOT',1500),\n",
    "       (5, 'Ali','A.I',3000)]\n",
    "data"
   ]
  },
  {
   "cell_type": "code",
   "execution_count": null,
   "metadata": {},
   "outputs": [],
   "source": [
    "df1 = pd.DataFrame(data, \n",
    "                   columns=[\"A\",\"B\",\"C\",\"D\"], \n",
    "                   index=['a','b','c','d','e']) # parameter\n",
    "df1"
   ]
  },
  {
   "cell_type": "markdown",
   "metadata": {},
   "source": [
    "# list of Array"
   ]
  },
  {
   "cell_type": "code",
   "execution_count": null,
   "metadata": {},
   "outputs": [],
   "source": [
    "l1 = np.arange(1,6)\n",
    "l2 = l1 * 3\n",
    "l3 = l2 + 7\n",
    "\n",
    "l = {\"A\":l1,\"B\":l2,\"C\":l3}\n",
    "l\n"
   ]
  },
  {
   "cell_type": "code",
   "execution_count": null,
   "metadata": {},
   "outputs": [],
   "source": [
    "df1 = pd.DataFrame(l,\n",
    "                   index=['a','b','c','d','e']) # parameter\n",
    "df1"
   ]
  },
  {
   "cell_type": "code",
   "execution_count": null,
   "metadata": {},
   "outputs": [],
   "source": [
    "s1 = pd.Series([1,2,3])\n",
    "s2 = pd.Series([2,7,8])\n",
    "d1 ={'A':s1, \"B\":s2}\n",
    "df1 = pd.DataFrame(d1)\n",
    "df1"
   ]
  },
  {
   "cell_type": "markdown",
   "metadata": {},
   "source": [
    "# Get General Information about you dataframe"
   ]
  },
  {
   "cell_type": "code",
   "execution_count": null,
   "metadata": {},
   "outputs": [],
   "source": [
    "data = [[1, 'Ali','A.I',1500],\n",
    "       [2, 'Asif','A.I',1500],\n",
    "       [3, 'Hamza','A.I',3000],\n",
    "       [4, 'Kashif','AIOT',np.nan],\n",
    "       [5, 'Ali','A.I',3000]]\n",
    "data\n",
    "df1 = pd.DataFrame(data, \n",
    "                   columns=['ID',\"Name\",\"Course\",\"Fee\"])\n",
    "df1"
   ]
  },
  {
   "cell_type": "code",
   "execution_count": null,
   "metadata": {},
   "outputs": [],
   "source": [
    "df1.index"
   ]
  },
  {
   "cell_type": "code",
   "execution_count": null,
   "metadata": {},
   "outputs": [],
   "source": [
    "df1.columns"
   ]
  },
  {
   "cell_type": "code",
   "execution_count": null,
   "metadata": {},
   "outputs": [],
   "source": [
    "df1.values"
   ]
  },
  {
   "cell_type": "code",
   "execution_count": null,
   "metadata": {},
   "outputs": [],
   "source": [
    "df1.info()"
   ]
  },
  {
   "cell_type": "code",
   "execution_count": null,
   "metadata": {},
   "outputs": [],
   "source": [
    "df1.describe()"
   ]
  },
  {
   "cell_type": "markdown",
   "metadata": {},
   "source": [
    "# How to extract Series/Colum from Dataframe\n",
    "* dataframe.columnName \n",
    "* dataframe['columnName'] # when space b/w in column name"
   ]
  },
  {
   "cell_type": "code",
   "execution_count": null,
   "metadata": {},
   "outputs": [],
   "source": [
    "#df1.Name\n",
    "df1['Course']"
   ]
  },
  {
   "cell_type": "markdown",
   "metadata": {},
   "source": [
    "# Add New Column in DataFrame"
   ]
  },
  {
   "cell_type": "raw",
   "metadata": {},
   "source": [
    "data['newColumnName'] = scaler_value, Seriec, Array"
   ]
  },
  {
   "cell_type": "code",
   "execution_count": null,
   "metadata": {},
   "outputs": [],
   "source": [
    "df1['total'] = 0\n",
    "df1"
   ]
  },
  {
   "cell_type": "code",
   "execution_count": null,
   "metadata": {},
   "outputs": [],
   "source": [
    "df1.Timing = \"100K\"\n",
    "df1"
   ]
  },
  {
   "cell_type": "markdown",
   "metadata": {},
   "source": [
    "# Apply General Function on Series"
   ]
  },
  {
   "cell_type": "raw",
   "metadata": {},
   "source": [
    "dataframe.columnsName.function_name()"
   ]
  },
  {
   "cell_type": "code",
   "execution_count": null,
   "metadata": {},
   "outputs": [],
   "source": [
    "df1.Name.unique()"
   ]
  },
  {
   "cell_type": "code",
   "execution_count": null,
   "metadata": {},
   "outputs": [],
   "source": [
    "df1.Course.unique()"
   ]
  },
  {
   "cell_type": "code",
   "execution_count": null,
   "metadata": {},
   "outputs": [],
   "source": [
    "for v in df1.Course.unique():\n",
    "    print(v, len(df1[df1.Course==v]))"
   ]
  },
  {
   "cell_type": "code",
   "execution_count": null,
   "metadata": {},
   "outputs": [],
   "source": [
    "df1.Course.value_counts()"
   ]
  },
  {
   "cell_type": "markdown",
   "metadata": {},
   "source": [
    "# How to apply search filter on dataframes"
   ]
  },
  {
   "cell_type": "raw",
   "metadata": {},
   "source": [
    "1) dataframe[dataframe.columnName == value] # single filter\n",
    "2) dataframe[(dataframe.col1==value) & (dataframe.col2==value)]"
   ]
  },
  {
   "cell_type": "code",
   "execution_count": null,
   "metadata": {},
   "outputs": [],
   "source": [
    "df1[df1.Course=='A.I']"
   ]
  },
  {
   "cell_type": "code",
   "execution_count": null,
   "metadata": {},
   "outputs": [],
   "source": [
    "len(df1[df1.Course=='A.I'])"
   ]
  },
  {
   "cell_type": "code",
   "execution_count": null,
   "metadata": {},
   "outputs": [],
   "source": [
    "df1[(df1.Course=='A.I') & (df1.Fee==1500)]"
   ]
  },
  {
   "cell_type": "code",
   "execution_count": null,
   "metadata": {},
   "outputs": [],
   "source": [
    "data = [[1, 'Ali','CNC',1500],\n",
    "       [2, 'Asif','A.I',1500],\n",
    "       [3, 'Hamza','A.I',3000],\n",
    "       [4, 'Kashif','AIOT',np.nan],\n",
    "       [5, 'Ali','CNC',3000]]\n",
    "data\n",
    "df1 = pd.DataFrame(data, \n",
    "                   columns=['ID',\"Name\",\"Course\",\"Fee\"])\n",
    "df1"
   ]
  },
  {
   "cell_type": "markdown",
   "metadata": {},
   "source": [
    "##### Map"
   ]
  },
  {
   "cell_type": "markdown",
   "metadata": {},
   "source": [
    "#dataframe.column.apply() (pass user define function)\n",
    "#dataframe.column.unique()\n",
    "#dataframe.column.map() (pass dictionary (find key and replace with value))\n",
    "#dataframe.column.value_counts()\n",
    "#dataframe.columns.sum() #min,max,mean,std"
   ]
  },
  {
   "cell_type": "code",
   "execution_count": null,
   "metadata": {},
   "outputs": [],
   "source": [
    "d1 = {\"A.I\":1,\n",
    "     \"AIOT\":2,\n",
    "     \"CNC\":3,\n",
    "     np.nan:0}\n",
    "\n",
    "df1.Course.map(d1)"
   ]
  },
  {
   "cell_type": "code",
   "execution_count": null,
   "metadata": {},
   "outputs": [],
   "source": [
    "d2 = {}\n",
    "for i , v in enumerate(df1.Course.unique()):\n",
    "    d2[v] = i\n",
    "\n",
    "print(d2)    \n",
    "\n",
    "df1['update course code'] = df1.Course.map(d2)\n",
    "df1"
   ]
  },
  {
   "cell_type": "code",
   "execution_count": null,
   "metadata": {},
   "outputs": [],
   "source": [
    "def cus_f1(x):\n",
    "    if x == \"A.I\": return 100\n",
    "    elif x==\"AIOT\": return 200\n",
    "    elif x==\"CNC\": return 300\n",
    "    else: return 0\n",
    "    \n",
    "df1['c1'] = df1.Course.apply(cus_f1)\n",
    "df1"
   ]
  },
  {
   "cell_type": "code",
   "execution_count": null,
   "metadata": {},
   "outputs": [],
   "source": [
    "d1"
   ]
  },
  {
   "cell_type": "code",
   "execution_count": null,
   "metadata": {},
   "outputs": [],
   "source": [
    "df1['update course code'] = df1.Course.map(d1)\n",
    "df1"
   ]
  },
  {
   "cell_type": "markdown",
   "metadata": {},
   "source": [
    "# Marks Sheet"
   ]
  },
  {
   "cell_type": "code",
   "execution_count": null,
   "metadata": {},
   "outputs": [],
   "source": [
    "df2 = pd.DataFrame(np.random.randint(1,100, size=(5,5)), \n",
    "                   columns=[\"A\",\"B\",\"C\",\"D\",\"E\"])\n",
    "df2"
   ]
  },
  {
   "cell_type": "markdown",
   "metadata": {},
   "source": [
    "# pd.concat"
   ]
  },
  {
   "cell_type": "raw",
   "metadata": {},
   "source": [
    "pd.concat([df1,df2,df3..], axis=0)"
   ]
  },
  {
   "cell_type": "code",
   "execution_count": null,
   "metadata": {},
   "outputs": [],
   "source": [
    "df = pd.concat([df1,df2])\n",
    "df"
   ]
  },
  {
   "cell_type": "code",
   "execution_count": null,
   "metadata": {},
   "outputs": [],
   "source": [
    "df = pd.concat([df1,df2], axis=1)\n",
    "df"
   ]
  },
  {
   "cell_type": "code",
   "execution_count": null,
   "metadata": {},
   "outputs": [],
   "source": [
    "df['total'] = df.A + df.B + df.C + df.D + df.E\n",
    "df['percentage'] = (df.A + df.B + df.C + df.D + df.E)*100/500\n",
    "\n",
    "def grade(p):\n",
    "    if p>= 80: return \"A+\"\n",
    "    elif p>=70: return \"A\" \n",
    "    elif p>=60: return \"B\"\n",
    "    elif p>=50: return \"C\"\n",
    "    else: return \"Fail\"\n",
    "\n",
    "df['Grade'] = df.percentage.apply(grade)\n",
    "df"
   ]
  },
  {
   "cell_type": "markdown",
   "metadata": {},
   "source": [
    "# Sort Data\n",
    "- index\n",
    "- values"
   ]
  },
  {
   "cell_type": "raw",
   "metadata": {},
   "source": [
    "dataframe.sort_index() # sort by rows asscending axis=0\n",
    "dataframe.sort_index(ascending=False) # sort by rows asscending axis=0\n",
    "dataframe.sort_index(axis=1) # Sort Columns names\n",
    "dataframe.sort_index(axis=1, ascending=False) # Sort Columns names\n"
   ]
  },
  {
   "cell_type": "code",
   "execution_count": null,
   "metadata": {},
   "outputs": [],
   "source": [
    "#df.sort_index()\n",
    "df.sort_index(ascending=False)"
   ]
  },
  {
   "cell_type": "code",
   "execution_count": null,
   "metadata": {},
   "outputs": [],
   "source": [
    "#df.sort_index(axis=1)\n",
    "df.sort_index(axis=1, ascending=False)"
   ]
  },
  {
   "cell_type": "raw",
   "metadata": {},
   "source": [
    "dataframe.sort_values(by=['col'])\n",
    "dataframe.sort_values(by=['col'], ascending=False)\n",
    "dataframe.sort_values(by=['col1','col2'], ascending=[True,False])"
   ]
  },
  {
   "cell_type": "code",
   "execution_count": null,
   "metadata": {},
   "outputs": [],
   "source": [
    "df.sort_values(\"Course\", ascending=False)"
   ]
  },
  {
   "cell_type": "code",
   "execution_count": null,
   "metadata": {},
   "outputs": [],
   "source": [
    "df.sort_values([\"Course\",\"percentage\"], ascending=[True,False])"
   ]
  },
  {
   "cell_type": "markdown",
   "metadata": {},
   "source": [
    "# How to apply function on multiple columns in pandas"
   ]
  },
  {
   "cell_type": "code",
   "execution_count": null,
   "metadata": {},
   "outputs": [],
   "source": [
    "df1 = df.iloc[:,:-3]\n",
    "df1"
   ]
  },
  {
   "cell_type": "code",
   "execution_count": null,
   "metadata": {},
   "outputs": [],
   "source": [
    "def grade1(x1,x2,x3,x4,x5):\n",
    "    total = x1+x2+x3+x4+x5\n",
    "    p = total/500*100\n",
    "    \n",
    "    if p>= 80: return \"A+\"\n",
    "    elif p>=70: return \"A\" \n",
    "    elif p>=60: return \"B\"\n",
    "    elif p>=50: return \"C\"\n",
    "    else: return \"Fail\"\n",
    "    \n",
    "df1['Grade']=df1[[\"A\",\"B\",\"C\",\"D\",\"E\"]].apply(lambda x:grade1(*x), axis=1)\n",
    "df1"
   ]
  },
  {
   "cell_type": "code",
   "execution_count": null,
   "metadata": {},
   "outputs": [],
   "source": [
    "df1[[\"A\",\"B\",\"C\",\"D\",\"E\"]].apply(grade1(*x), axis=1)"
   ]
  },
  {
   "cell_type": "code",
   "execution_count": null,
   "metadata": {},
   "outputs": [],
   "source": [
    "x = [65,28,5,46,79]\n",
    "print(*x)\n",
    "print(x[0], x[1],x[2],x[3],x[4])"
   ]
  },
  {
   "cell_type": "code",
   "execution_count": null,
   "metadata": {},
   "outputs": [],
   "source": [
    "def abc(a,b):\n",
    "    return a+b\n",
    "\n",
    "lambda a, b : a + b"
   ]
  },
  {
   "cell_type": "markdown",
   "metadata": {},
   "source": [
    "# Load DAtaFrame"
   ]
  },
  {
   "cell_type": "code",
   "execution_count": null,
   "metadata": {},
   "outputs": [],
   "source": [
    "df1 = pd.read_csv(\"./data/train.csv\")\n",
    "df1.info()\n",
    "print(df1.dtypes)\n",
    "print(df1.columns)\n",
    "df1.head(2)"
   ]
  },
  {
   "cell_type": "code",
   "execution_count": null,
   "metadata": {},
   "outputs": [],
   "source": [
    "df1.isnull().sum()"
   ]
  },
  {
   "cell_type": "code",
   "execution_count": null,
   "metadata": {},
   "outputs": [],
   "source": [
    "df1.isnull().sum() / 891"
   ]
  },
  {
   "cell_type": "code",
   "execution_count": null,
   "metadata": {},
   "outputs": [],
   "source": [
    "df1.notnull().sum()"
   ]
  },
  {
   "cell_type": "code",
   "execution_count": null,
   "metadata": {},
   "outputs": [],
   "source": [
    "df1.notnull().sum() / 891"
   ]
  },
  {
   "cell_type": "code",
   "execution_count": null,
   "metadata": {},
   "outputs": [],
   "source": [
    "a = df1[df1.Survived==1]\n",
    "print('T.Survived', len(a))\n",
    "print('Femal',len(a[a.Sex=='female']))\n",
    "print('Male',len(a[a.Sex=='male']))\n",
    "\n",
    "a = df1[df1.Survived==0]\n",
    "print('T.Unsurvived', len(a))\n",
    "print('Femal',len(a[a.Sex=='female']))\n",
    "print('Male',len(a[a.Sex=='male']))"
   ]
  },
  {
   "cell_type": "code",
   "execution_count": null,
   "metadata": {},
   "outputs": [],
   "source": [
    "df1.groupby()"
   ]
  },
  {
   "cell_type": "code",
   "execution_count": null,
   "metadata": {},
   "outputs": [],
   "source": [
    "df.fillna(0) \n",
    "03152968211"
   ]
  }
 ],
 "metadata": {
  "kernelspec": {
   "display_name": "Python 3",
   "language": "python",
   "name": "python3"
  },
  "language_info": {
   "codemirror_mode": {
    "name": "ipython",
    "version": 3
   },
   "file_extension": ".py",
   "mimetype": "text/x-python",
   "name": "python",
   "nbconvert_exporter": "python",
   "pygments_lexer": "ipython3",
   "version": "3.7.6"
  }
 },
 "nbformat": 4,
 "nbformat_minor": 2
}
