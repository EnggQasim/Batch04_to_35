{
 "metadata": {
  "language_info": {
   "codemirror_mode": {
    "name": "ipython",
    "version": 3
   },
   "file_extension": ".py",
   "mimetype": "text/x-python",
   "name": "python",
   "nbconvert_exporter": "python",
   "pygments_lexer": "ipython3",
   "version": "3.8.6-final"
  },
  "orig_nbformat": 2,
  "kernelspec": {
   "name": "python3",
   "display_name": "Python 3",
   "language": "python"
  }
 },
 "nbformat": 4,
 "nbformat_minor": 2,
 "cells": [
  {
   "cell_type": "code",
   "execution_count": 1,
   "metadata": {},
   "outputs": [],
   "source": [
    "import numpy as np\n"
   ]
  },
  {
   "cell_type": "code",
   "execution_count": 10,
   "metadata": {},
   "outputs": [
    {
     "output_type": "execute_result",
     "data": {
      "text/plain": [
       "7"
      ]
     },
     "metadata": {},
     "execution_count": 10
    }
   ],
   "source": [
    "# 1\n",
    "a = np.array([1,2,3,5,6,3])\n",
    "a[2]\n",
    "b = np.array([[1,4,8,9,3],\n",
    "[2,6,7,5,0]])\n",
    "b[1][2]"
   ]
  },
  {
   "cell_type": "code",
   "execution_count": 11,
   "metadata": {},
   "outputs": [
    {
     "output_type": "execute_result",
     "data": {
      "text/plain": [
       "array([1, 2, 3, 5, 6, 3])"
      ]
     },
     "metadata": {},
     "execution_count": 11
    }
   ],
   "source": [
    "a"
   ]
  },
  {
   "cell_type": "code",
   "execution_count": 30,
   "metadata": {},
   "outputs": [
    {
     "output_type": "execute_result",
     "data": {
      "text/plain": [
       "array([0., 0., 0.])"
      ]
     },
     "metadata": {},
     "execution_count": 30
    }
   ],
   "source": [
    "# 2\n",
    "sec_2 = np.zeros(3)\n",
    "sec_2"
   ]
  },
  {
   "cell_type": "code",
   "execution_count": 71,
   "metadata": {},
   "outputs": [
    {
     "output_type": "execute_result",
     "data": {
      "text/plain": [
       "array([[1., 1., 1., 1.],\n",
       "       [1., 1., 1., 1.],\n",
       "       [1., 1., 1., 1.]])"
      ]
     },
     "metadata": {},
     "execution_count": 71
    }
   ],
   "source": [
    "# 3\n",
    "third_3 = np.ones((3,4))\n",
    "third_3"
   ]
  },
  {
   "cell_type": "code",
   "execution_count": 33,
   "metadata": {},
   "outputs": [],
   "source": [
    "# 4\n",
    "fourth_4 = np.empty(4)"
   ]
  },
  {
   "cell_type": "code",
   "execution_count": 27,
   "metadata": {},
   "outputs": [
    {
     "output_type": "execute_result",
     "data": {
      "text/plain": [
       "array([ 1,  4,  7, 10, 13])"
      ]
     },
     "metadata": {},
     "execution_count": 27
    }
   ],
   "source": [
    "# 5\n",
    "np.arange(1,16,3)"
   ]
  },
  {
   "cell_type": "code",
   "execution_count": 78,
   "metadata": {},
   "outputs": [
    {
     "output_type": "stream",
     "name": "stdout",
     "text": [
      "[1.   1.25 1.5  1.75 2.  ]\n"
     ]
    },
    {
     "output_type": "execute_result",
     "data": {
      "text/plain": [
       "array([0.        , 0.06346652, 0.12693304, 0.19039955, 0.25386607,\n",
       "       0.31733259, 0.38079911, 0.44426563, 0.50773215, 0.57119866,\n",
       "       0.63466518, 0.6981317 , 0.76159822, 0.82506474, 0.88853126,\n",
       "       0.95199777, 1.01546429, 1.07893081, 1.14239733, 1.20586385,\n",
       "       1.26933037, 1.33279688, 1.3962634 , 1.45972992, 1.52319644,\n",
       "       1.58666296, 1.65012947, 1.71359599, 1.77706251, 1.84052903,\n",
       "       1.90399555, 1.96746207, 2.03092858, 2.0943951 , 2.15786162,\n",
       "       2.22132814, 2.28479466, 2.34826118, 2.41172769, 2.47519421,\n",
       "       2.53866073, 2.60212725, 2.66559377, 2.72906028, 2.7925268 ,\n",
       "       2.85599332, 2.91945984, 2.98292636, 3.04639288, 3.10985939,\n",
       "       3.17332591, 3.23679243, 3.30025895, 3.36372547, 3.42719199,\n",
       "       3.4906585 , 3.55412502, 3.61759154, 3.68105806, 3.74452458,\n",
       "       3.8079911 , 3.87145761, 3.93492413, 3.99839065, 4.06185717,\n",
       "       4.12532369, 4.1887902 , 4.25225672, 4.31572324, 4.37918976,\n",
       "       4.44265628, 4.5061228 , 4.56958931, 4.63305583, 4.69652235,\n",
       "       4.75998887, 4.82345539, 4.88692191, 4.95038842, 5.01385494,\n",
       "       5.07732146, 5.14078798, 5.2042545 , 5.26772102, 5.33118753,\n",
       "       5.39465405, 5.45812057, 5.52158709, 5.58505361, 5.64852012,\n",
       "       5.71198664, 5.77545316, 5.83891968, 5.9023862 , 5.96585272,\n",
       "       6.02931923, 6.09278575, 6.15625227, 6.21971879, 6.28318531])"
      ]
     },
     "metadata": {},
     "execution_count": 78
    }
   ],
   "source": [
    "from numpy import pi\n",
    "# 6\n",
    "sixth_6 = np.linspace(1,2,5)\n",
    "print(sixth_6)\n",
    "x = np.linspace( 0, 2*pi, 100 )\n",
    "x"
   ]
  },
  {
   "cell_type": "code",
   "execution_count": 42,
   "metadata": {},
   "outputs": [
    {
     "output_type": "stream",
     "name": "stdout",
     "text": [
      "[[1 4 8 9 3]\n [2 6 7 5 0]]\n2\n(2, 5)\nint64\n"
     ]
    }
   ],
   "source": [
    "# 7 check dimension of array\n",
    "print(b)\n",
    "print(b.ndim)\n",
    "# 8 shape of array \n",
    "print(b.shape)\n",
    "# 9 dtype of array \n",
    "print(b.dtype)"
   ]
  },
  {
   "cell_type": "code",
   "execution_count": 45,
   "metadata": {},
   "outputs": [
    {
     "output_type": "stream",
     "name": "stdout",
     "text": [
      "10\n8\n"
     ]
    }
   ],
   "source": [
    "# 10 check the size of array\n",
    "print(b.size)\n",
    "# 11 size in byte\n",
    "print(b.itemsize)"
   ]
  },
  {
   "cell_type": "code",
   "execution_count": 49,
   "metadata": {},
   "outputs": [
    {
     "output_type": "stream",
     "name": "stdout",
     "text": [
      "<memory at 0x7f839b1886c0>\n"
     ]
    }
   ],
   "source": [
    "# 12 array data\n",
    "print(b.data)"
   ]
  },
  {
   "cell_type": "code",
   "execution_count": 94,
   "metadata": {},
   "outputs": [
    {
     "output_type": "stream",
     "name": "stdout",
     "text": [
      "1\n2\n(2,)\nobject\n8\n"
     ]
    }
   ],
   "source": [
    "c = np.array([[1,4,8,9,3],\n",
    "[2,6,7,5]])\n",
    "print(c.ndim)\n",
    "print(c.size)\n",
    "print(c.shape)\n",
    "print(c.dtype)\n",
    "print(c.itemsize)\n"
   ]
  },
  {
   "cell_type": "code",
   "execution_count": 103,
   "metadata": {},
   "outputs": [
    {
     "output_type": "execute_result",
     "data": {
      "text/plain": [
       "array([[ 0,  1,  2,  3,  4,  5],\n",
       "       [ 6,  7,  8,  9, 10, 11]])"
      ]
     },
     "metadata": {},
     "execution_count": 103
    }
   ],
   "source": [
    "# 13\n",
    "(np.arange(12).reshape(2,6))"
   ]
  },
  {
   "cell_type": "code",
   "execution_count": 101,
   "metadata": {},
   "outputs": [
    {
     "output_type": "stream",
     "name": "stdout",
     "text": [
      "6\n1\n"
     ]
    }
   ],
   "source": [
    "# 14 max and min value\n",
    "print(np.max(a)) \n",
    "print(np.min(a)) "
   ]
  },
  {
   "cell_type": "code",
   "execution_count": 109,
   "metadata": {},
   "outputs": [
    {
     "output_type": "stream",
     "name": "stdout",
     "text": [
      "[0 1 2 3 4 5 6 7 8 9]\n"
     ]
    }
   ],
   "source": [
    "# 15 sorting\n",
    "arr = np.array([1,3,4,6,8,9,0,5,7,2])\n",
    "print(np.sort(arr))\n",
    "\n"
   ]
  },
  {
   "cell_type": "code",
   "execution_count": 115,
   "metadata": {},
   "outputs": [
    {
     "output_type": "stream",
     "name": "stdout",
     "text": [
      "[0 1 2 3 4 5 6 9 7 8]\n"
     ]
    }
   ],
   "source": [
    "# 16\n",
    "print(np.partition(arr,5))"
   ]
  },
  {
   "cell_type": "code",
   "execution_count": 145,
   "metadata": {},
   "outputs": [
    {
     "output_type": "execute_result",
     "data": {
      "text/plain": [
       "array([[1, 3, 5, 6, 7],\n",
       "       [4, 6, 3, 8, 9],\n",
       "       [3, 5, 6, 7, 8]])"
      ]
     },
     "metadata": {},
     "execution_count": 145
    }
   ],
   "source": [
    "# 17\n",
    "arr1 = np.array([[1,3,5,6,7],[4,6,3,8,9]])\n",
    "arr2 = np.array([[3,5,6,7,8]])\n",
    "np.concatenate((arr1, arr2),axis=0)"
   ]
  },
  {
   "cell_type": "code",
   "execution_count": 123,
   "metadata": {},
   "outputs": [
    {
     "output_type": "execute_result",
     "data": {
      "text/plain": [
       "(6,)"
      ]
     },
     "metadata": {},
     "execution_count": 123
    }
   ],
   "source": [
    "# 18\n",
    "aa = np.array([1, 2, 3, 4, 5, 6])\n",
    "aa.shape"
   ]
  },
  {
   "cell_type": "code",
   "execution_count": 128,
   "metadata": {},
   "outputs": [
    {
     "output_type": "stream",
     "name": "stdout",
     "text": [
      "[[1 2 3 4 5 6]]\n"
     ]
    },
    {
     "output_type": "execute_result",
     "data": {
      "text/plain": [
       "(1, 6)"
      ]
     },
     "metadata": {},
     "execution_count": 128
    }
   ],
   "source": [
    "a2 = aa[np.newaxis,:]\n",
    "print(a2)\n",
    "\n",
    "a2.shape"
   ]
  },
  {
   "cell_type": "code",
   "execution_count": 131,
   "metadata": {},
   "outputs": [
    {
     "output_type": "stream",
     "name": "stdout",
     "text": [
      "(6, 1)\n"
     ]
    }
   ],
   "source": [
    "# 19 and 20 \n",
    "row_vec = aa[:,np.newaxis]\n",
    "print(row_vec.shape)\n"
   ]
  },
  {
   "cell_type": "code",
   "execution_count": 149,
   "metadata": {},
   "outputs": [
    {
     "output_type": "execute_result",
     "data": {
      "text/plain": [
       "array([[ 1.83088136, -0.0074333 , -1.14612426, -0.64793519],\n",
       "       [-0.69441363, -0.94065433,  0.96209309, -0.38824031],\n",
       "       [-1.10899341,  1.99813453,  0.54380445,  1.08528325]])"
      ]
     },
     "metadata": {},
     "execution_count": 149
    }
   ],
   "source": [
    "# 21\n",
    "np.random.randn(3,4)\n"
   ]
  },
  {
   "cell_type": "code",
   "execution_count": 151,
   "metadata": {
    "tags": []
   },
   "outputs": [
    {
     "output_type": "execute_result",
     "data": {
      "text/plain": [
       "array([3, 5, 6, 5, 1, 9])"
      ]
     },
     "metadata": {},
     "execution_count": 151
    }
   ],
   "source": [
    "# 22 type casting into int\n",
    "arr3 = np.array([3.0,5.4,6.3,5.5,1.44,9.7])\n",
    "arr3.astype(np.int64)"
   ]
  },
  {
   "cell_type": "code",
   "execution_count": 152,
   "metadata": {},
   "outputs": [
    {
     "output_type": "execute_result",
     "data": {
      "text/plain": [
       "array([3.  , 5.4 , 6.3 , 5.5 , 1.44, 9.7 ])"
      ]
     },
     "metadata": {},
     "execution_count": 152
    }
   ],
   "source": [
    "# 23 type casting from string to ispecifies\n",
    "arr3 = np.array([\"3.0\",\"5.4\",\"6.3\",\"5.5\",\"1.44\",\"9.7\"])\n",
    "arr3.astype(np.float)"
   ]
  },
  {
   "cell_type": "code",
   "execution_count": 172,
   "metadata": {},
   "outputs": [
    {
     "output_type": "stream",
     "name": "stdout",
     "text": [
      "[1.   3.   3.   3.   3.   1.44]\n"
     ]
    }
   ],
   "source": [
    "# 24 print values in n dimensional array\n",
    "array_n = np.array([[1, 3, 5, 6, 7],\n",
    "       [4, 6, 3, 8, 9],\n",
    "       [3, 5, 6, 7, 8],\n",
    "       [3.0,5.4,6.3,5.5,1.44]])\n",
    "print(array_n[array_n < 4])\n"
   ]
  },
  {
   "cell_type": "code",
   "execution_count": 176,
   "metadata": {},
   "outputs": [
    {
     "output_type": "execute_result",
     "data": {
      "text/plain": [
       "(array([0, 0, 1, 1, 2, 3, 3]), array([0, 1, 0, 2, 0, 0, 4]))"
      ]
     },
     "metadata": {},
     "execution_count": 176
    }
   ],
   "source": [
    "# 25\n",
    "c = np.nonzero(array_n<5)\n",
    "print(c)"
   ]
  },
  {
   "cell_type": "code",
   "execution_count": 182,
   "metadata": {},
   "outputs": [
    {
     "output_type": "stream",
     "name": "stdout",
     "text": [
      "[4 5 6 7 8]\n[ 1  2  3  4  5  6  7  8  9 10]\n[[1 1]\n [2 2]\n [3 3]\n [4 4]]\n[[1 1 3 3]\n [2 2 4 4]]\n<built-in method copy of numpy.ndarray object at 0x7f839b16dd00>\n"
     ]
    }
   ],
   "source": [
    "# 26,27,28,29,30    \n",
    "seaven_7 = np.array([1,  2,  3,  4,  5,  6,  7,  8,  9, 10])\n",
    "arr1 = seaven_7[3:8]\n",
    "print(arr1)\n",
    "print(seaven_7)\n",
    "a1 = np.array([[1, 1],\n",
    "[2, 2]])\n",
    "a2 = np.array([[3, 3],\n",
    "[4, 4]])\n",
    "print(np.vstack((a1,a2)))\n",
    "print(np.hstack((a1,a2)))\n",
    "b2 =a1.copy\n",
    "print(b2)\n"
   ]
  },
  {
   "cell_type": "code",
   "execution_count": 187,
   "metadata": {},
   "outputs": [
    {
     "output_type": "stream",
     "name": "stdout",
     "text": [
      "10\n1\n"
     ]
    }
   ],
   "source": [
    "# 31,32\n",
    "print(seaven_7.max())\n",
    "print(seaven_7.min())"
   ]
  },
  {
   "cell_type": "code",
   "execution_count": 190,
   "metadata": {},
   "outputs": [
    {
     "output_type": "stream",
     "name": "stdout",
     "text": [
      "[11 12 13 14 15 16 17 18 19 20]\n[[2 3]\n [0 1]]\n[[6 4]\n [4 1]]\n"
     ]
    }
   ],
   "source": [
    "# 33,34,35\n",
    "uni = np.array([11, 11, 12, 13, 14, 15, 16, 17, 12, 13, 11, 14, 18, 19, 20])\n",
    "print(np.unique(uni))\n",
    "eight = np.array([[1,1],[0,1]])\n",
    "nine = np.array([[2,3],[4,1]])#element wise\n",
    "print(eight*nine)\n",
    "print(eight@nine) #product matrices"
   ]
  },
  {
   "cell_type": "code",
   "execution_count": 192,
   "metadata": {},
   "outputs": [
    {
     "output_type": "stream",
     "name": "stdout",
     "text": [
      "[[6 4]\n [4 1]]\n[10  9  8  7  6  5  4  3  2  1]\n"
     ]
    }
   ],
   "source": [
    "# 36,37,38,39,40\n",
    "print(eight.dot(nine))\n",
    "# reverse array\n",
    "print(np.flip(seaven_7))"
   ]
  },
  {
   "cell_type": "code",
   "execution_count": null,
   "metadata": {},
   "outputs": [],
   "source": []
  }
 ]
}