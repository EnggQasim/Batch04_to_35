{
 "cells": [
  {
   "cell_type": "markdown",
   "metadata": {},
   "source": [
    "# 3.6 Predicting house prices: a regression example"
   ]
  },
  {
   "cell_type": "markdown",
   "metadata": {},
   "source": [
    "## 3.6.1 The Boston Housing Price dataset"
   ]
  },
  {
   "cell_type": "markdown",
   "metadata": {},
   "source": [
    "- we have to predict price\n",
    "- boston housing mid-1970\n",
    "- 506 data samples\n",
    "- 404 training and 102 testing samples\n",
    "- 13 Features (number of columns in X)"
   ]
  },
  {
   "cell_type": "code",
   "execution_count": 1,
   "metadata": {},
   "outputs": [
    {
     "data": {
      "text/plain": [
       "79.84189723320159"
      ]
     },
     "execution_count": 1,
     "metadata": {},
     "output_type": "execute_result"
    }
   ],
   "source": [
    "404/506*100"
   ]
  },
  {
   "cell_type": "code",
   "execution_count": 2,
   "metadata": {},
   "outputs": [
    {
     "data": {
      "text/plain": [
       "404.8"
      ]
     },
     "execution_count": 2,
     "metadata": {},
     "output_type": "execute_result"
    }
   ],
   "source": [
    "506*80/100"
   ]
  },
  {
   "cell_type": "markdown",
   "metadata": {},
   "source": [
    "#### Listing 3.24 Loading the Boston housing dataset"
   ]
  },
  {
   "cell_type": "code",
   "execution_count": 4,
   "metadata": {},
   "outputs": [],
   "source": [
    "from tensorflow.keras.datasets import boston_housing\n",
    "(train_data, train_targets), (test_data, test_targets) = boston_housing.load_data()\n"
   ]
  },
  {
   "cell_type": "code",
   "execution_count": 5,
   "metadata": {},
   "outputs": [
    {
     "data": {
      "text/plain": [
       "(404, 13)"
      ]
     },
     "execution_count": 5,
     "metadata": {},
     "output_type": "execute_result"
    }
   ],
   "source": [
    "train_data.shape"
   ]
  },
  {
   "cell_type": "code",
   "execution_count": 6,
   "metadata": {},
   "outputs": [
    {
     "data": {
      "text/plain": [
       "(102, 13)"
      ]
     },
     "execution_count": 6,
     "metadata": {},
     "output_type": "execute_result"
    }
   ],
   "source": [
    "test_data.shape"
   ]
  },
  {
   "cell_type": "code",
   "execution_count": 12,
   "metadata": {},
   "outputs": [
    {
     "data": {
      "text/plain": [
       "array([  1.23247,   0.     ,   8.14   ,   0.     ,   0.538  ,   6.142  ,\n",
       "        91.7    ,   3.9769 ,   4.     , 307.     ,  21.     , 396.9    ,\n",
       "        18.72   ])"
      ]
     },
     "execution_count": 12,
     "metadata": {},
     "output_type": "execute_result"
    }
   ],
   "source": [
    "train_data[0]"
   ]
  },
  {
   "cell_type": "code",
   "execution_count": 10,
   "metadata": {},
   "outputs": [
    {
     "data": {
      "text/plain": [
       "15.2"
      ]
     },
     "execution_count": 10,
     "metadata": {},
     "output_type": "execute_result"
    }
   ],
   "source": [
    "train_targets[0]"
   ]
  },
  {
   "cell_type": "markdown",
   "metadata": {},
   "source": [
    "### 3.6.2 Preparing the data"
   ]
  },
  {
   "cell_type": "markdown",
   "metadata": {},
   "source": [
    "#### Listing 3.25 Normalizing the data"
   ]
  },
  {
   "cell_type": "code",
   "execution_count": 15,
   "metadata": {},
   "outputs": [],
   "source": [
    "mean = train_data.mean(axis=0)\n",
    "train_data -= mean\n",
    "\n",
    "std = train_data.std(axis=0)\n",
    "\n",
    "train_data /= std\n",
    "test_data -= mean\n",
    "test_data /= std"
   ]
  },
  {
   "cell_type": "code",
   "execution_count": 16,
   "metadata": {},
   "outputs": [
    {
     "data": {
      "text/plain": [
       "array([ 7.83201886e-18,  7.36484581e-17,  1.48396147e-17,  1.18991725e-16,\n",
       "        5.60607666e-17, -3.11906716e-17,  1.09923072e-17,  6.48546123e-17,\n",
       "        1.95113452e-17, -7.69461502e-17, -2.85799987e-17,  3.89539885e-17,\n",
       "       -1.20915379e-17])"
      ]
     },
     "execution_count": 16,
     "metadata": {},
     "output_type": "execute_result"
    }
   ],
   "source": [
    "mean"
   ]
  },
  {
   "cell_type": "code",
   "execution_count": 17,
   "metadata": {},
   "outputs": [
    {
     "data": {
      "text/plain": [
       "array([1., 1., 1., 1., 1., 1., 1., 1., 1., 1., 1., 1., 1.])"
      ]
     },
     "execution_count": 17,
     "metadata": {},
     "output_type": "execute_result"
    }
   ],
   "source": [
    "std"
   ]
  },
  {
   "cell_type": "code",
   "execution_count": 18,
   "metadata": {},
   "outputs": [
    {
     "data": {
      "text/plain": [
       "array([-0.27224633, -0.48361547, -0.43576161, -0.25683275, -0.1652266 ,\n",
       "       -0.1764426 ,  0.81306188,  0.1166983 , -0.62624905, -0.59517003,\n",
       "        1.14850044,  0.44807713,  0.8252202 ])"
      ]
     },
     "execution_count": 18,
     "metadata": {},
     "output_type": "execute_result"
    }
   ],
   "source": [
    "train_data[0]"
   ]
  },
  {
   "cell_type": "code",
   "execution_count": 29,
   "metadata": {},
   "outputs": [
    {
     "data": {
      "text/plain": [
       "array([0, 0, 0, 0, 0, 0, 0, 0, 0, 0, 0, 0, 0], dtype=int8)"
      ]
     },
     "execution_count": 29,
     "metadata": {},
     "output_type": "execute_result"
    }
   ],
   "source": [
    "np.array(train_data.mean(axis=0),dtype=np.int8)"
   ]
  },
  {
   "cell_type": "code",
   "execution_count": 19,
   "metadata": {},
   "outputs": [
    {
     "data": {
      "text/plain": [
       "1.1485004376638608"
      ]
     },
     "execution_count": 19,
     "metadata": {},
     "output_type": "execute_result"
    }
   ],
   "source": [
    "(21 - 1.84759901e+01)/2.19765689e+00"
   ]
  },
  {
   "cell_type": "code",
   "execution_count": 20,
   "metadata": {},
   "outputs": [
    {
     "data": {
      "text/plain": [
       "array([1., 1., 1., 1., 1., 1., 1., 1., 1., 1., 1., 1., 1.])"
      ]
     },
     "execution_count": 20,
     "metadata": {},
     "output_type": "execute_result"
    }
   ],
   "source": [
    "train_data.std(axis=0)"
   ]
  },
  {
   "cell_type": "code",
   "execution_count": 26,
   "metadata": {},
   "outputs": [
    {
     "data": {
      "text/plain": [
       "array([ 7.83201886e-18, -1.20915379e-17,  6.32057663e-17, -4.16608442e-16,\n",
       "        4.39692287e-18,  7.41980734e-18,  1.09923072e-17, -1.09923072e-18,\n",
       "       -3.57249983e-18, -3.21524985e-17,  4.45188441e-17, -1.00304803e-17,\n",
       "       -1.20915379e-17])"
      ]
     },
     "execution_count": 26,
     "metadata": {},
     "output_type": "execute_result"
    }
   ],
   "source": [
    "import numpy as np\n",
    "np.mean(train_data, axis=0)"
   ]
  },
  {
   "cell_type": "markdown",
   "metadata": {},
   "source": [
    "#### 3.6.3 Building your network"
   ]
  },
  {
   "cell_type": "code",
   "execution_count": 30,
   "metadata": {},
   "outputs": [],
   "source": [
    "from tensorflow.keras import models\n",
    "from tensorflow.keras import layers\n",
    "\n",
    "def build_model():\n",
    "    model = models.Sequential()\n",
    "    model.add(layers.Dense(64, activation='relu',\n",
    "                           input_shape=(train_data.shape[1],)))\n",
    "    model.add(layers.Dense(64, activation='relu'))\n",
    "    model.add(layers.Dense(1))\n",
    "    model.compile(optimizer='rmsprop', loss='mse', metrics=['mae'])\n",
    "    return model"
   ]
  },
  {
   "cell_type": "code",
   "execution_count": 32,
   "metadata": {},
   "outputs": [
    {
     "data": {
      "text/plain": [
       "27.0"
      ]
     },
     "execution_count": 32,
     "metadata": {},
     "output_type": "execute_result"
    }
   ],
   "source": [
    "(23+31)/2"
   ]
  },
  {
   "cell_type": "markdown",
   "metadata": {},
   "source": [
    "#### Listing 3.27 K-fold validation"
   ]
  },
  {
   "cell_type": "code",
   "execution_count": 34,
   "metadata": {},
   "outputs": [
    {
     "name": "stdout",
     "output_type": "stream",
     "text": [
      "processing fold # 0\n",
      "processing fold # 1\n",
      "processing fold # 2\n",
      "processing fold # 3\n"
     ]
    }
   ],
   "source": [
    "import numpy as np\n",
    "k=4\n",
    "num_val_samples = len(train_data) // k\n",
    "num_epochs = 100\n",
    "all_scores = []\n",
    "\n",
    "num_epochs = 500\n",
    "all_mae_histories = []\n",
    "for i in range(k):\n",
    "    print('processing fold #', i)\n",
    "    val_data = train_data[i * num_val_samples: (i + 1) * num_val_samples]\n",
    "    val_targets = train_targets[i * num_val_samples: (i + 1) * num_val_samples]\n",
    "    \n",
    "    partial_train_data = np.concatenate(\n",
    "        [train_data[:i * num_val_samples],\n",
    "         train_data[(i + 1) * num_val_samples:]],\n",
    "        axis=0)\n",
    "    \n",
    "    partial_train_targets = np.concatenate(\n",
    "        [train_targets[:i * num_val_samples],\n",
    "         train_targets[(i + 1) * num_val_samples:]],\n",
    "        axis=0)\n",
    "    \n",
    "model = build_model()\n",
    "history = model.fit(partial_train_data, partial_train_targets,\n",
    "                    validation_data=(val_data, val_targets),\n",
    "                    epochs=num_epochs, batch_size=1, verbose=0)\n",
    "mae_history = history.history['val_mae']\n",
    "all_mae_histories.append(mae_history)"
   ]
  },
  {
   "cell_type": "code",
   "execution_count": 17,
   "metadata": {},
   "outputs": [
    {
     "data": {
      "text/plain": [
       "dict_keys(['loss', 'mae', 'val_loss', 'val_mae'])"
      ]
     },
     "execution_count": 17,
     "metadata": {},
     "output_type": "execute_result"
    }
   ],
   "source": [
    "history.history.keys()"
   ]
  },
  {
   "cell_type": "markdown",
   "metadata": {},
   "source": [
    "#### Listing 3.29 Building the history of successive mean K-fold validation scores"
   ]
  },
  {
   "cell_type": "code",
   "execution_count": 18,
   "metadata": {},
   "outputs": [],
   "source": [
    "average_mae_history = [\n",
    "np.mean([x[i] for x in all_mae_histories]) for i in range(num_epochs)]"
   ]
  },
  {
   "cell_type": "code",
   "execution_count": 19,
   "metadata": {},
   "outputs": [
    {
     "data": {
      "text/plain": [
       "[5.693404197692871,\n",
       " 3.969085931777954,\n",
       " 3.373014211654663,\n",
       " 3.249359130859375,\n",
       " 3.157114267349243,\n",
       " 3.0040442943573,\n",
       " 2.949414014816284,\n",
       " 2.7647016048431396,\n",
       " 2.876683235168457,\n",
       " 2.9337069988250732,\n",
       " 2.74836802482605,\n",
       " 2.7099180221557617,\n",
       " 2.733415126800537,\n",
       " 2.6246864795684814,\n",
       " 2.5679659843444824,\n",
       " 2.5881617069244385,\n",
       " 2.534420967102051,\n",
       " 2.4487953186035156,\n",
       " 2.482792377471924,\n",
       " 2.802041530609131,\n",
       " 2.540942430496216,\n",
       " 2.4541029930114746,\n",
       " 2.4426214694976807,\n",
       " 2.573106288909912,\n",
       " 2.490983009338379,\n",
       " 2.859463930130005,\n",
       " 2.4958903789520264,\n",
       " 2.523568630218506,\n",
       " 2.51906681060791,\n",
       " 2.5574049949645996,\n",
       " 2.508443593978882,\n",
       " 2.380169153213501,\n",
       " 2.464118480682373,\n",
       " 2.7025628089904785,\n",
       " 2.5718233585357666,\n",
       " 2.4767916202545166,\n",
       " 2.4057118892669678,\n",
       " 2.6610450744628906,\n",
       " 2.783233642578125,\n",
       " 2.420203685760498,\n",
       " 2.5010714530944824,\n",
       " 2.424973249435425,\n",
       " 2.8942880630493164,\n",
       " 2.4825453758239746,\n",
       " 2.37044358253479,\n",
       " 2.647359609603882,\n",
       " 2.7866828441619873,\n",
       " 2.3779070377349854,\n",
       " 2.56620717048645,\n",
       " 2.6866533756256104,\n",
       " 2.4375030994415283,\n",
       " 2.4280478954315186,\n",
       " 2.5631463527679443,\n",
       " 2.530580759048462,\n",
       " 2.4822769165039062,\n",
       " 2.52720046043396,\n",
       " 2.4194369316101074,\n",
       " 2.684333086013794,\n",
       " 2.381411075592041,\n",
       " 2.519402027130127,\n",
       " 2.558131217956543,\n",
       " 2.4582669734954834,\n",
       " 2.407306432723999,\n",
       " 2.549161672592163,\n",
       " 2.4952683448791504,\n",
       " 2.4313952922821045,\n",
       " 2.4941720962524414,\n",
       " 3.1904120445251465,\n",
       " 2.471978187561035,\n",
       " 2.3740010261535645,\n",
       " 2.540874719619751,\n",
       " 2.4821579456329346,\n",
       " 2.642990827560425,\n",
       " 2.6145641803741455,\n",
       " 2.5265252590179443,\n",
       " 2.4831082820892334,\n",
       " 2.4583866596221924,\n",
       " 2.401733636856079,\n",
       " 2.5030524730682373,\n",
       " 2.454990863800049,\n",
       " 2.401360273361206,\n",
       " 2.487332582473755,\n",
       " 2.3416271209716797,\n",
       " 2.409541368484497,\n",
       " 2.4008989334106445,\n",
       " 2.409998893737793,\n",
       " 2.3718373775482178,\n",
       " 2.4124786853790283,\n",
       " 2.3551442623138428,\n",
       " 2.4070045948028564,\n",
       " 2.217378854751587,\n",
       " 2.355139970779419,\n",
       " 2.494262933731079,\n",
       " 2.4436988830566406,\n",
       " 2.282589912414551,\n",
       " 2.452915906906128,\n",
       " 2.356966495513916,\n",
       " 2.4312679767608643,\n",
       " 2.4274542331695557,\n",
       " 2.4463629722595215,\n",
       " 2.325619697570801,\n",
       " 2.326486587524414,\n",
       " 2.373279571533203,\n",
       " 2.4923579692840576,\n",
       " 2.3235929012298584,\n",
       " 2.33538556098938,\n",
       " 2.3367910385131836,\n",
       " 2.409193277359009,\n",
       " 2.3255410194396973,\n",
       " 2.25744366645813,\n",
       " 2.4035227298736572,\n",
       " 2.276822805404663,\n",
       " 2.5620758533477783,\n",
       " 2.3720502853393555,\n",
       " 3.109684467315674,\n",
       " 2.281045913696289,\n",
       " 2.262688398361206,\n",
       " 2.5498626232147217,\n",
       " 2.398366928100586,\n",
       " 2.489593744277954,\n",
       " 2.311720848083496,\n",
       " 2.3222908973693848,\n",
       " 2.3357810974121094,\n",
       " 2.3520545959472656,\n",
       " 2.311502695083618,\n",
       " 2.553123950958252,\n",
       " 2.6038546562194824,\n",
       " 2.2763736248016357,\n",
       " 2.4392199516296387,\n",
       " 2.3247413635253906,\n",
       " 2.767470598220825,\n",
       " 2.3748719692230225,\n",
       " 2.4226810932159424,\n",
       " 2.3810031414031982,\n",
       " 2.3236167430877686,\n",
       " 2.5400185585021973,\n",
       " 2.298779249191284,\n",
       " 2.4121718406677246,\n",
       " 2.360957145690918,\n",
       " 2.4111151695251465,\n",
       " 2.4106318950653076,\n",
       " 2.424884557723999,\n",
       " 2.4781293869018555,\n",
       " 2.411139726638794,\n",
       " 2.3713624477386475,\n",
       " 2.9130330085754395,\n",
       " 2.4490299224853516,\n",
       " 2.923933267593384,\n",
       " 2.3845794200897217,\n",
       " 2.6225574016571045,\n",
       " 2.5969011783599854,\n",
       " 2.3863675594329834,\n",
       " 2.7036476135253906,\n",
       " 2.336251974105835,\n",
       " 2.485976219177246,\n",
       " 2.7684123516082764,\n",
       " 2.2179007530212402,\n",
       " 2.415327310562134,\n",
       " 2.350153923034668,\n",
       " 2.4411964416503906,\n",
       " 2.4179797172546387,\n",
       " 2.4934287071228027,\n",
       " 2.5205655097961426,\n",
       " 2.3885021209716797,\n",
       " 2.6235601902008057,\n",
       " 2.5908100605010986,\n",
       " 2.5403785705566406,\n",
       " 2.902484893798828,\n",
       " 2.5689280033111572,\n",
       " 2.5390241146087646,\n",
       " 2.317686080932617,\n",
       " 2.4445152282714844,\n",
       " 2.2902135848999023,\n",
       " 2.6602892875671387,\n",
       " 2.292677164077759,\n",
       " 2.4510247707366943,\n",
       " 2.335484504699707,\n",
       " 2.680684804916382,\n",
       " 2.5375893115997314,\n",
       " 2.727116346359253,\n",
       " 2.4318506717681885,\n",
       " 2.464158535003662,\n",
       " 2.2885210514068604,\n",
       " 2.3440234661102295,\n",
       " 2.610903024673462,\n",
       " 2.5248472690582275,\n",
       " 2.633349657058716,\n",
       " 2.46840763092041,\n",
       " 2.4533615112304688,\n",
       " 2.4423987865448,\n",
       " 2.343794822692871,\n",
       " 2.4349312782287598,\n",
       " 2.5449678897857666,\n",
       " 2.341623544692993,\n",
       " 2.3815598487854004,\n",
       " 2.4498252868652344,\n",
       " 2.478712797164917,\n",
       " 2.4870004653930664,\n",
       " 2.4947004318237305,\n",
       " 2.4958560466766357,\n",
       " 2.528184175491333,\n",
       " 2.582479953765869,\n",
       " 2.5729103088378906,\n",
       " 2.379395008087158,\n",
       " 2.621706008911133,\n",
       " 2.53566837310791,\n",
       " 2.5182666778564453,\n",
       " 2.594561815261841,\n",
       " 2.369525671005249,\n",
       " 2.513885974884033,\n",
       " 2.506319046020508,\n",
       " 2.5682168006896973,\n",
       " 2.553826093673706,\n",
       " 2.499634265899658,\n",
       " 2.539330244064331,\n",
       " 2.531477689743042,\n",
       " 2.5186233520507812,\n",
       " 2.4751670360565186,\n",
       " 2.578132152557373,\n",
       " 2.355595588684082,\n",
       " 2.3993325233459473,\n",
       " 2.599799633026123,\n",
       " 2.3968849182128906,\n",
       " 2.4749913215637207,\n",
       " 2.4743916988372803,\n",
       " 3.24955677986145,\n",
       " 2.4185309410095215,\n",
       " 2.3972959518432617,\n",
       " 2.371431827545166,\n",
       " 2.9758241176605225,\n",
       " 2.4847428798675537,\n",
       " 2.6179070472717285,\n",
       " 2.546053647994995,\n",
       " 2.723656415939331,\n",
       " 2.4519410133361816,\n",
       " 2.737651824951172,\n",
       " 2.4402427673339844,\n",
       " 2.52010440826416,\n",
       " 2.7870287895202637,\n",
       " 2.7704296112060547,\n",
       " 2.5699374675750732,\n",
       " 2.4737958908081055,\n",
       " 2.8676533699035645,\n",
       " 2.6564548015594482,\n",
       " 2.6290135383605957,\n",
       " 2.413330316543579,\n",
       " 2.36358380317688,\n",
       " 2.4774866104125977,\n",
       " 2.479792594909668,\n",
       " 2.455512523651123,\n",
       " 2.725480079650879,\n",
       " 2.50351881980896,\n",
       " 2.7635395526885986,\n",
       " 2.6512346267700195,\n",
       " 2.6327977180480957,\n",
       " 2.7546424865722656,\n",
       " 2.538602113723755,\n",
       " 2.5836217403411865,\n",
       " 2.626798152923584,\n",
       " 2.5522992610931396,\n",
       " 2.5755741596221924,\n",
       " 2.5703091621398926,\n",
       " 2.4836947917938232,\n",
       " 2.541761636734009,\n",
       " 2.572357416152954,\n",
       " 2.574160099029541,\n",
       " 2.465606927871704,\n",
       " 2.83274245262146,\n",
       " 2.9789156913757324,\n",
       " 2.735473394393921,\n",
       " 2.475651979446411,\n",
       " 2.437096357345581,\n",
       " 2.4137794971466064,\n",
       " 2.4476616382598877,\n",
       " 2.4784975051879883,\n",
       " 2.5953176021575928,\n",
       " 2.716973066329956,\n",
       " 2.468771457672119,\n",
       " 2.5521352291107178,\n",
       " 2.714984655380249,\n",
       " 2.7569456100463867,\n",
       " 2.6976747512817383,\n",
       " 2.4588065147399902,\n",
       " 2.7701289653778076,\n",
       " 2.6544289588928223,\n",
       " 2.4583792686462402,\n",
       " 2.6025776863098145,\n",
       " 2.571551561355591,\n",
       " 2.4568941593170166,\n",
       " 2.5881052017211914,\n",
       " 2.6767845153808594,\n",
       " 2.4674794673919678,\n",
       " 2.621107339859009,\n",
       " 2.959993600845337,\n",
       " 2.6088221073150635,\n",
       " 2.651038408279419,\n",
       " 2.7318530082702637,\n",
       " 2.5925307273864746,\n",
       " 2.5155556201934814,\n",
       " 2.624499559402466,\n",
       " 2.562161684036255,\n",
       " 2.570115089416504,\n",
       " 2.5339839458465576,\n",
       " 2.6654298305511475,\n",
       " 2.68849778175354,\n",
       " 2.6319241523742676,\n",
       " 2.711646318435669,\n",
       " 2.5936830043792725,\n",
       " 2.6014046669006348,\n",
       " 2.558436632156372,\n",
       " 2.782578468322754,\n",
       " 2.574674129486084,\n",
       " 2.881977081298828,\n",
       " 2.4836089611053467,\n",
       " 2.8041436672210693,\n",
       " 2.5322017669677734,\n",
       " 2.767205238342285,\n",
       " 2.615166425704956,\n",
       " 2.7378487586975098,\n",
       " 2.600322961807251,\n",
       " 2.83337664604187,\n",
       " 2.665637254714966,\n",
       " 2.5668344497680664,\n",
       " 2.7514147758483887,\n",
       " 2.566284418106079,\n",
       " 2.7262256145477295,\n",
       " 2.5543277263641357,\n",
       " 2.6240944862365723,\n",
       " 2.789309024810791,\n",
       " 2.904341220855713,\n",
       " 2.5618512630462646,\n",
       " 2.60485577583313,\n",
       " 2.638850688934326,\n",
       " 2.759754180908203,\n",
       " 2.637752056121826,\n",
       " 2.89513897895813,\n",
       " 2.634096622467041,\n",
       " 2.6028432846069336,\n",
       " 2.600562334060669,\n",
       " 2.7356202602386475,\n",
       " 2.783555030822754,\n",
       " 2.7052223682403564,\n",
       " 2.5804057121276855,\n",
       " 2.79927659034729,\n",
       " 2.6547491550445557,\n",
       " 2.951242208480835,\n",
       " 2.7216081619262695,\n",
       " 2.7506356239318848,\n",
       " 2.685443878173828,\n",
       " 2.6064019203186035,\n",
       " 2.645049810409546,\n",
       " 2.617549180984497,\n",
       " 2.712056875228882,\n",
       " 2.7922167778015137,\n",
       " 2.8789572715759277,\n",
       " 2.678238868713379,\n",
       " 3.0646517276763916,\n",
       " 2.942030429840088,\n",
       " 2.8303093910217285,\n",
       " 2.7052738666534424,\n",
       " 3.275434732437134,\n",
       " 2.5720908641815186,\n",
       " 2.59047794342041,\n",
       " 2.5561978816986084,\n",
       " 2.6131362915039062,\n",
       " 2.5534937381744385,\n",
       " 2.784975051879883,\n",
       " 2.73447322845459,\n",
       " 2.6865651607513428,\n",
       " 2.845818042755127,\n",
       " 2.5096206665039062,\n",
       " 2.636627197265625,\n",
       " 2.6970202922821045,\n",
       " 2.807537317276001,\n",
       " 2.872060537338257,\n",
       " 2.722846508026123,\n",
       " 2.813593864440918,\n",
       " 2.814629077911377,\n",
       " 2.748533010482788,\n",
       " 2.5603129863739014,\n",
       " 2.6215076446533203,\n",
       " 2.596285581588745,\n",
       " 2.490208148956299,\n",
       " 2.497818946838379,\n",
       " 2.9020419120788574,\n",
       " 2.765551805496216,\n",
       " 2.676368236541748,\n",
       " 2.935343027114868,\n",
       " 2.675424814224243,\n",
       " 2.702622413635254,\n",
       " 2.8620071411132812,\n",
       " 2.7212555408477783,\n",
       " 2.7493815422058105,\n",
       " 2.4988105297088623,\n",
       " 2.5786259174346924,\n",
       " 2.5760982036590576,\n",
       " 2.6291685104370117,\n",
       " 2.627262830734253,\n",
       " 2.4737443923950195,\n",
       " 2.714937448501587,\n",
       " 2.583266496658325,\n",
       " 2.5631678104400635,\n",
       " 2.581815242767334,\n",
       " 2.5925474166870117,\n",
       " 2.53836727142334,\n",
       " 2.552642822265625,\n",
       " 2.976161479949951,\n",
       " 2.4858319759368896,\n",
       " 2.529355525970459,\n",
       " 2.6294567584991455,\n",
       " 2.7732834815979004,\n",
       " 2.839977979660034,\n",
       " 2.6409356594085693,\n",
       " 2.716219186782837,\n",
       " 2.633915424346924,\n",
       " 2.8525025844573975,\n",
       " 2.5469462871551514,\n",
       " 2.6046369075775146,\n",
       " 2.547968864440918,\n",
       " 2.6088333129882812,\n",
       " 2.7741596698760986,\n",
       " 2.5272512435913086,\n",
       " 2.5817863941192627,\n",
       " 2.6266250610351562,\n",
       " 2.4657344818115234,\n",
       " 2.725848436355591,\n",
       " 2.5366783142089844,\n",
       " 2.7720494270324707,\n",
       " 2.5458476543426514,\n",
       " 2.571500301361084,\n",
       " 2.703626871109009,\n",
       " 2.6174564361572266,\n",
       " 2.6363015174865723,\n",
       " 2.6846911907196045,\n",
       " 2.60738205909729,\n",
       " 2.3953628540039062,\n",
       " 2.7432308197021484,\n",
       " 2.5729334354400635,\n",
       " 2.526228904724121,\n",
       " 2.4617714881896973,\n",
       " 2.605297088623047,\n",
       " 2.6696577072143555,\n",
       " 2.4556853771209717,\n",
       " 2.6353344917297363,\n",
       " 2.7046048641204834,\n",
       " 2.4683353900909424,\n",
       " 2.6421444416046143,\n",
       " 2.5658652782440186,\n",
       " 2.9544427394866943,\n",
       " 2.647866725921631,\n",
       " 2.5766918659210205,\n",
       " 2.5246503353118896,\n",
       " 2.485541820526123,\n",
       " 2.4330101013183594,\n",
       " 2.6092100143432617,\n",
       " 2.516362190246582,\n",
       " 2.757678270339966,\n",
       " 2.4699816703796387,\n",
       " 2.410278558731079,\n",
       " 2.7853994369506836,\n",
       " 2.6689836978912354,\n",
       " 2.5656116008758545,\n",
       " 2.8061599731445312,\n",
       " 2.512742757797241,\n",
       " 2.4538357257843018,\n",
       " 2.617486000061035,\n",
       " 2.5798044204711914,\n",
       " 2.493103265762329,\n",
       " 2.436584234237671,\n",
       " 2.5988852977752686,\n",
       " 2.608766555786133,\n",
       " 2.4648778438568115,\n",
       " 2.5284526348114014,\n",
       " 2.415816068649292,\n",
       " 2.61181902885437,\n",
       " 2.6168951988220215,\n",
       " 2.6180076599121094,\n",
       " 2.52990460395813,\n",
       " 2.523242235183716,\n",
       " 2.5837247371673584,\n",
       " 2.576556921005249,\n",
       " 2.5351264476776123,\n",
       " 2.575476884841919,\n",
       " 2.529752016067505,\n",
       " 3.01409649848938,\n",
       " 2.4960291385650635,\n",
       " 2.742952585220337,\n",
       " 2.4955484867095947,\n",
       " 2.58107590675354,\n",
       " 2.6814842224121094,\n",
       " 2.5468649864196777,\n",
       " 2.6252598762512207,\n",
       " 2.6687610149383545,\n",
       " 2.561089277267456,\n",
       " 2.4442508220672607,\n",
       " 2.6044671535491943,\n",
       " 2.5361225605010986,\n",
       " 2.5302534103393555,\n",
       " 2.7047970294952393,\n",
       " 2.601344347000122]"
      ]
     },
     "execution_count": 19,
     "metadata": {},
     "output_type": "execute_result"
    }
   ],
   "source": [
    "average_mae_history"
   ]
  },
  {
   "cell_type": "markdown",
   "metadata": {},
   "source": [
    "#### Listing 3.30 Plotting validation scores"
   ]
  },
  {
   "cell_type": "code",
   "execution_count": 20,
   "metadata": {},
   "outputs": [
    {
     "data": {
      "image/png": "[encoded data removed]",
      "text/plain": [
       "<Figure size 432x288 with 1 Axes>"
      ]
     },
     "metadata": {
      "needs_background": "light"
     },
     "output_type": "display_data"
    }
   ],
   "source": [
    "import matplotlib.pyplot as plt\n",
    "plt.plot(average_mae_history)\n",
    "plt.xlabel('Epochs')\n",
    "plt.ylabel('Validation MAE')\n",
    "plt.show()"
   ]
  },
  {
   "cell_type": "code",
   "execution_count": 21,
   "metadata": {},
   "outputs": [
    {
     "data": {
      "image/png": "[encoded data removed]",
      "text/plain": [
       "<Figure size 432x288 with 1 Axes>"
      ]
     },
     "metadata": {
      "needs_background": "light"
     },
     "output_type": "display_data"
    }
   ],
   "source": [
    "import matplotlib.pyplot as plt\n",
    "plt.plot(range(1, len(average_mae_history) + 1), average_mae_history)\n",
    "plt.xlabel('Epochs')\n",
    "plt.ylabel('Validation MAE')\n",
    "plt.show()"
   ]
  },
  {
   "cell_type": "markdown",
   "metadata": {},
   "source": [
    "#### Listing 3.31 Plotting validation scores, excluding the first 10 data points\n"
   ]
  },
  {
   "cell_type": "code",
   "execution_count": 24,
   "metadata": {},
   "outputs": [
    {
     "data": {
      "image/png": "[encoded data removed]",
      "text/plain": [
       "<Figure size 432x288 with 1 Axes>"
      ]
     },
     "metadata": {
      "needs_background": "light"
     },
     "output_type": "display_data"
    }
   ],
   "source": [
    "def smooth_curve(points, factor=0.9):\n",
    "    smoothed_points = []\n",
    "    for point in points:\n",
    "        if smoothed_points:\n",
    "            previous = smoothed_points[-1]\n",
    "            smoothed_points.append(previous * factor + point * (1 - factor))\n",
    "        else:\n",
    "            smoothed_points.append(point)\n",
    "    return smoothed_points\n",
    "    \n",
    "smooth_mae_history = smooth_curve(average_mae_history[10:])\n",
    "plt.plot(range(1, len(smooth_mae_history) + 1), smooth_mae_history)\n",
    "plt.xlabel('Epochs')\n",
    "plt.ylabel('Validation MAE')\n",
    "plt.show()\n"
   ]
  },
  {
   "cell_type": "markdown",
   "metadata": {},
   "source": [
    "#### Listing 3.32 Training the final model"
   ]
  },
  {
   "cell_type": "code",
   "execution_count": 26,
   "metadata": {},
   "outputs": [
    {
     "name": "stdout",
     "output_type": "stream",
     "text": [
      "4/4 [==============================] - 0s 4ms/step - loss: 17.2395 - mae: 2.7132\n"
     ]
    }
   ],
   "source": [
    "model = build_model()\n",
    "model.fit(train_data, train_targets,\n",
    "          epochs=100, batch_size=16, verbose=0)\n",
    "test_mse_score, test_mae_score = model.evaluate(test_data, test_targets)"
   ]
  },
  {
   "cell_type": "code",
   "execution_count": 27,
   "metadata": {},
   "outputs": [
    {
     "data": {
      "text/plain": [
       "17.239465713500977"
      ]
     },
     "execution_count": 27,
     "metadata": {},
     "output_type": "execute_result"
    }
   ],
   "source": [
    "test_mse_score"
   ]
  },
  {
   "cell_type": "code",
   "execution_count": 28,
   "metadata": {},
   "outputs": [
    {
     "data": {
      "text/plain": [
       "2.7132461071014404"
      ]
     },
     "execution_count": 28,
     "metadata": {},
     "output_type": "execute_result"
    }
   ],
   "source": [
    "test_mae_score"
   ]
  },
  {
   "cell_type": "markdown",
   "metadata": {},
   "source": [
    "You’re still off by about $2,550."
   ]
  },
  {
   "cell_type": "code",
   "execution_count": 29,
   "metadata": {},
   "outputs": [
    {
     "data": {
      "text/plain": [
       "array([[ 8.700686],\n",
       "       [18.890963],\n",
       "       [21.362719],\n",
       "       [32.529922],\n",
       "       [24.211483],\n",
       "       [22.05826 ],\n",
       "       [27.761366],\n",
       "       [21.583105],\n",
       "       [19.316132],\n",
       "       [23.374973],\n",
       "       [16.517637],\n",
       "       [16.658096],\n",
       "       [16.545847],\n",
       "       [41.074883],\n",
       "       [21.717382],\n",
       "       [20.132326],\n",
       "       [25.695456],\n",
       "       [19.090677],\n",
       "       [19.791704],\n",
       "       [25.658064],\n",
       "       [11.558103],\n",
       "       [14.85916 ],\n",
       "       [21.644106],\n",
       "       [15.43796 ],\n",
       "       [19.12347 ],\n",
       "       [26.31711 ],\n",
       "       [28.677176],\n",
       "       [29.817461],\n",
       "       [11.990912],\n",
       "       [20.11735 ],\n",
       "       [19.256828],\n",
       "       [15.031489],\n",
       "       [33.35923 ],\n",
       "       [23.710217],\n",
       "       [18.868574],\n",
       "       [ 7.987828],\n",
       "       [15.632457],\n",
       "       [16.619183],\n",
       "       [18.097322],\n",
       "       [26.296892],\n",
       "       [30.692137],\n",
       "       [26.44659 ],\n",
       "       [14.170518],\n",
       "       [41.21086 ],\n",
       "       [27.546362],\n",
       "       [26.67436 ],\n",
       "       [27.882223],\n",
       "       [18.374252],\n",
       "       [24.071993],\n",
       "       [22.5086  ],\n",
       "       [35.7333  ],\n",
       "       [18.63476 ],\n",
       "       [10.95269 ],\n",
       "       [15.018571],\n",
       "       [34.756245],\n",
       "       [27.707672],\n",
       "       [12.765238],\n",
       "       [46.988792],\n",
       "       [34.511337],\n",
       "       [22.54252 ],\n",
       "       [25.912947],\n",
       "       [16.7518  ],\n",
       "       [16.002987],\n",
       "       [19.540825],\n",
       "       [23.964262],\n",
       "       [20.457085],\n",
       "       [14.317677],\n",
       "       [22.169262],\n",
       "       [12.588198],\n",
       "       [ 7.982819],\n",
       "       [25.107527],\n",
       "       [30.909794],\n",
       "       [27.702644],\n",
       "       [13.615088],\n",
       "       [24.499804],\n",
       "       [18.111036],\n",
       "       [19.57697 ],\n",
       "       [24.004095],\n",
       "       [34.860153],\n",
       "       [10.3891  ],\n",
       "       [20.481878],\n",
       "       [36.856365],\n",
       "       [16.023386],\n",
       "       [13.624995],\n",
       "       [17.255638],\n",
       "       [18.264097],\n",
       "       [23.808985],\n",
       "       [20.337082],\n",
       "       [21.105173],\n",
       "       [33.214104],\n",
       "       [20.298   ],\n",
       "       [19.459576],\n",
       "       [26.226877],\n",
       "       [45.451553],\n",
       "       [35.532772],\n",
       "       [19.449324],\n",
       "       [34.23892 ],\n",
       "       [47.34585 ],\n",
       "       [25.478075],\n",
       "       [46.682884],\n",
       "       [30.221857],\n",
       "       [19.752039]], dtype=float32)"
      ]
     },
     "execution_count": 29,
     "metadata": {},
     "output_type": "execute_result"
    }
   ],
   "source": [
    "model.predict(test_data)"
   ]
  },
  {
   "cell_type": "code",
   "execution_count": null,
   "metadata": {},
   "outputs": [],
   "source": []
  }
 ],
 "metadata": {
  "kernelspec": {
   "display_name": "Python 3",
   "language": "python",
   "name": "python3"
  },
  "language_info": {
   "codemirror_mode": {
    "name": "ipython",
    "version": 3
   },
   "file_extension": ".py",
   "mimetype": "text/x-python",
   "name": "python",
   "nbconvert_exporter": "python",
   "pygments_lexer": "ipython3",
   "version": "3.7.6"
  }
 },
 "nbformat": 4,
 "nbformat_minor": 2
}
